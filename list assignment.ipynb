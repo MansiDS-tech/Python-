{
 "cells": [
  {
   "cell_type": "code",
   "execution_count": 1,
   "id": "3e707716-6c02-4b7f-b698-3947e58fec6f",
   "metadata": {},
   "outputs": [
    {
     "name": "stdout",
     "output_type": "stream",
     "text": [
      "modified list: [1, 4, 3, 2, 5]\n"
     ]
    }
   ],
   "source": [
    "#list code\n",
    "\n",
    "#1. python program to interchange first and last element \n",
    "# swap first and last element \n",
    "lst =[5,4,3,2,1]\n",
    "lst[0],lst[-1],=lst[-1],lst[0]\n",
    "print (\"modified list:\",lst)"
   ]
  },
  {
   "cell_type": "code",
   "execution_count": 5,
   "id": "ca9ca848-9160-495f-b1e6-c3e5a00fb3e8",
   "metadata": {},
   "outputs": [
    {
     "name": "stdout",
     "output_type": "stream",
     "text": [
      "after swapingtwo element: [1, 2, 3, 4, 5, 9, 7, 8, 6, 10]\n"
     ]
    }
   ],
   "source": [
    "#2. python program to swap two element in a list \n",
    "lst =[1,2,3,4,5,6,7,8,9,10]\n",
    "lst [5],lst[8]=lst[8],lst[5]\n",
    "print(\"after swapingtwo element:\",lst)"
   ]
  },
  {
   "cell_type": "code",
   "execution_count": 6,
   "id": "88ccacb7-64ac-4bf3-99bc-a383c3592ed4",
   "metadata": {},
   "outputs": [
    {
     "name": "stdout",
     "output_type": "stream",
     "text": [
      "after swaping two element: ['mango', 'apple', 'gauava', 'orange', 'banana']\n"
     ]
    }
   ],
   "source": [
    "#3. python swap ellement in string list \n",
    "fruits=[\"mango\",\"apple\",\"banana\",\"orange\",\"gauava\"]\n",
    "fruits[2],fruits[4]=fruits[4],fruits[2]\n",
    "print(\"after swaping two element:\",fruits)"
   ]
  },
  {
   "cell_type": "code",
   "execution_count": 7,
   "id": "dd3f54a1-5d08-48d2-ad2c-ea5672c1e136",
   "metadata": {},
   "outputs": [
    {
     "name": "stdout",
     "output_type": "stream",
     "text": [
      "length of list: 5\n"
     ]
    }
   ],
   "source": [
    "#4. python ways to find length of list \n",
    "fruits=[\"mango\",\"apple\",\"banana\",\"orange\",\"gauava\"]\n",
    "print(\"length of list:\",len(fruits))"
   ]
  },
  {
   "cell_type": "code",
   "execution_count": 8,
   "id": "9659cdb6-4238-4284-8ef9-53b545032e85",
   "metadata": {},
   "outputs": [
    {
     "name": "stdin",
     "output_type": "stream",
     "text": [
      "enter num1: 5\n",
      "enter num2: 10\n"
     ]
    },
    {
     "name": "stdout",
     "output_type": "stream",
     "text": [
      "the maximum of 5 and 10 is 10\n"
     ]
    }
   ],
   "source": [
    "#5 maximum of two number in python \n",
    "num1=int(input(\"enter num1:\"))\n",
    "num2=int(input(\"enter num2:\"))\n",
    "maximum=max(num1,num2)\n",
    "print (\"the maximum of\",num1,\"and\",num2,\"is\",maximum)"
   ]
  },
  {
   "cell_type": "code",
   "execution_count": 9,
   "id": "d8fb6d5c-213f-407d-8eb9-0e79daaf184c",
   "metadata": {},
   "outputs": [
    {
     "name": "stdin",
     "output_type": "stream",
     "text": [
      "enter num1: 5\n",
      "enter num2: 10\n"
     ]
    },
    {
     "name": "stdout",
     "output_type": "stream",
     "text": [
      "minimum of 5 and 10 is 5\n"
     ]
    }
   ],
   "source": [
    "#6. minimum of two numbers in python\n",
    "a =int(input(\"enter num1:\"))\n",
    "b =int(input(\"enter num2:\"))\n",
    "if a>b:\n",
    "    print(\"manimum of\",a,\"and\",b,\"is\",b)\n",
    "elif(a<b):\n",
    "    print(\"minimum of\",a,\"and\",b,\"is\",a)\n",
    "else:\n",
    "    print(\"both are same\")"
   ]
  },
  {
   "cell_type": "code",
   "execution_count": 14,
   "id": "ae48c60f-4cd0-4526-94cd-05e4252b15fa",
   "metadata": {},
   "outputs": [],
   "source": [
    "#7. python ways to check if element exists in list\n",
    "fruits=[\"mango\",\"apple\",\"banana\",\"orange\",\"gauava\"]\n",
    "for element in fruits:\n",
    "    if element ==\"cod\":\n",
    "        print(\"element exist!\")\n",
    "        break\n",
    "    "
   ]
  },
  {
   "cell_type": "code",
   "execution_count": 1,
   "id": "1906f612-15e9-4fb3-bc30-1d37919b3dc1",
   "metadata": {},
   "outputs": [
    {
     "name": "stdout",
     "output_type": "stream",
     "text": [
      "[]\n"
     ]
    }
   ],
   "source": [
    "#8. different ways to clear a list in python\n",
    "game =[\"ironman\",\"avtar\",\"openhimer\",\"extraction\"]\n",
    "game .clear()\n",
    "print(game)"
   ]
  },
  {
   "cell_type": "code",
   "execution_count": 15,
   "id": "fe1cd820-3c2e-4c43-aeef-868e914d3844",
   "metadata": {},
   "outputs": [
    {
     "name": "stdout",
     "output_type": "stream",
     "text": [
      "['gauava', 'orange', 'banana', 'apple', 'mango']\n"
     ]
    }
   ],
   "source": [
    "#9. python reversing a list\n",
    "fruits=[\"mango\",\"apple\",\"banana\",\"orange\",\"gauava\"]\n",
    "fruits. reverse()\n",
    "print(fruits)"
   ]
  },
  {
   "cell_type": "code",
   "execution_count": 16,
   "id": "8bb356cb-6549-4f4d-85d9-15397ac07bd5",
   "metadata": {},
   "outputs": [
    {
     "name": "stdout",
     "output_type": "stream",
     "text": [
      "['gauava', 'orange', 'banana', 'apple', 'mango']\n"
     ]
    }
   ],
   "source": [
    "#10. python cloning or copying a list\n",
    "game =fruits.copy()\n",
    "print(game)"
   ]
  },
  {
   "cell_type": "code",
   "execution_count": 17,
   "id": "66fc7ae4-2c26-4294-a07a-3a4204c9c3c6",
   "metadata": {},
   "outputs": [
    {
     "data": {
      "text/plain": [
       "5"
      ]
     },
     "execution_count": 17,
     "metadata": {},
     "output_type": "execute_result"
    }
   ],
   "source": [
    "#11. python count accurrences of an element in a list\n",
    "fruits=[\"mango\",\"apple\",\"banana\",\"orange\",\"gauava\"]\n",
    "len(fruits)"
   ]
  },
  {
   "cell_type": "code",
   "execution_count": 21,
   "id": "dc5d098c-8bd2-492e-98c1-a9ccd6607241",
   "metadata": {},
   "outputs": [
    {
     "name": "stdout",
     "output_type": "stream",
     "text": [
      "sum of list 55\n"
     ]
    }
   ],
   "source": [
    "#12. python program to find sum and average of list in python\n",
    "#sum \n",
    "lst=[1,2,3,4,5,6,7,8,9,10]\n",
    "b =sum(lst)\n",
    "print(\"sum of list\",b)"
   ]
  },
  {
   "cell_type": "code",
   "execution_count": 22,
   "id": "53645e66-7082-402b-96fb-9252ac453592",
   "metadata": {},
   "outputs": [
    {
     "name": "stdout",
     "output_type": "stream",
     "text": [
      "average of list 5.5\n"
     ]
    }
   ],
   "source": [
    "#average \n",
    "lst=[1,2,3,4,5,6,7,8,9,10]\n",
    "b =sum(lst)/len(lst)\n",
    "print(\"average of list\",b)"
   ]
  },
  {
   "cell_type": "code",
   "execution_count": 2,
   "id": "31017893-685c-4de3-ab14-709aec02f08a",
   "metadata": {},
   "outputs": [
    {
     "data": {
      "text/plain": [
       "28"
      ]
     },
     "execution_count": 2,
     "metadata": {},
     "output_type": "execute_result"
    }
   ],
   "source": [
    "#13. python sum of number digits in list \n",
    "numb =[1,2,3,4,5,6,7]\n",
    "def sum_numbers(n):\n",
    "    return sum (n)\n",
    "sum_numbers(numb)\n"
   ]
  },
  {
   "cell_type": "code",
   "execution_count": 4,
   "id": "e448e4d4-bdbd-460a-8c71-fa20ae45c3b6",
   "metadata": {},
   "outputs": [
    {
     "name": "stdout",
     "output_type": "stream",
     "text": [
      "3628800\n"
     ]
    }
   ],
   "source": [
    "#14. python multiply all numbers in a list\n",
    "numbers=[1,2,3,4,5,6,7,8,9,10]\n",
    "mul=1\n",
    "for numb in numbers:\n",
    "    mul*=numb\n",
    "print(mul)"
   ]
  },
  {
   "cell_type": "code",
   "execution_count": 5,
   "id": "35d4c197-ea70-428c-bc61-5785f92314aa",
   "metadata": {},
   "outputs": [
    {
     "name": "stdout",
     "output_type": "stream",
     "text": [
      "smallest no. in the list: 10\n"
     ]
    }
   ],
   "source": [
    "#15. python program to find smallest number in a list\n",
    "n =[10,15,20,25,30,35,40]\n",
    "smallest_no=min(n)\n",
    "print(\"smallest no. in the list:\",smallest_no)"
   ]
  },
  {
   "cell_type": "code",
   "execution_count": 6,
   "id": "baf895ec-8ee6-4721-bb2e-151a2ef5e251",
   "metadata": {},
   "outputs": [
    {
     "name": "stdout",
     "output_type": "stream",
     "text": [
      "largest no. in the list: 40\n"
     ]
    }
   ],
   "source": [
    "#16. python program to find largest number in a list\n",
    "n =[10,15,20,25,30,35,40]\n",
    "max_no=max(n)\n",
    "print(\"largest no. in the list:\",max_no)"
   ]
  },
  {
   "cell_type": "code",
   "execution_count": 8,
   "id": "5d710ab9-5fba-4110-96fb-b7632539f5b0",
   "metadata": {},
   "outputs": [
    {
     "name": "stdout",
     "output_type": "stream",
     "text": [
      "the second largest number in a list is: 35\n"
     ]
    }
   ],
   "source": [
    "#17. python program to find second largest number in a list\n",
    "num =[10,15,20,25,30,35,40]\n",
    "num.sort(reverse=num)\n",
    "second_largest=num[1]\n",
    "print(\"the second largest number in a list is:\",second_largest)"
   ]
  },
  {
   "cell_type": "code",
   "execution_count": 10,
   "id": "b477a1fa-9709-4244-b375-e889cf8a460b",
   "metadata": {},
   "outputs": [
    {
     "name": "stdout",
     "output_type": "stream",
     "text": [
      "10 is an even no.\n",
      "20 is an even no.\n",
      "30 is an even no.\n",
      "40 is an even no.\n"
     ]
    }
   ],
   "source": [
    "#18. python program to print even numbers in a list add\n",
    "n=[10,15,20,25,30,35,40]\n",
    "for i in n:\n",
    "    if (i%2==0):\n",
    "         print(i,\"is an even no.\")"
   ]
  },
  {
   "cell_type": "code",
   "execution_count": 11,
   "id": "a5096ef1-bc17-4549-ac67-686e6490b156",
   "metadata": {},
   "outputs": [
    {
     "name": "stdout",
     "output_type": "stream",
     "text": [
      "15 is an odd no.\n",
      "25 is an odd no.\n",
      "35 is an odd no.\n"
     ]
    }
   ],
   "source": [
    "#19. python program to print odd number in a list\n",
    "n=[10,15,20,25,30,35,40]\n",
    "for i in n:\n",
    "    if (i%2!=0):\n",
    "         print(i,\"is an odd no.\")"
   ]
  },
  {
   "cell_type": "code",
   "execution_count": 15,
   "id": "d727944a-b688-4d64-85d1-490aa0017f5e",
   "metadata": {},
   "outputs": [
    {
     "name": "stdout",
     "output_type": "stream",
     "text": [
      "even n count: 4\n",
      "odd n count: 3\n"
     ]
    }
   ],
   "source": [
    "#20. python program to count even and odd number in a list \n",
    "n=[10,15,20,25,30,35,40]\n",
    "even =0\n",
    "odd=0\n",
    "for n in n:\n",
    "    if (n%2==0):\n",
    "        even +=1\n",
    "    else:\n",
    "        odd+=1\n",
    "print(\"even n count:\",even)\n",
    "print(\"odd n count:\",odd)\n",
    "        \n",
    "    "
   ]
  },
  {
   "cell_type": "code",
   "execution_count": 17,
   "id": "d4c44c1f-f28b-4a8d-be37-314666351fcc",
   "metadata": {},
   "outputs": [
    {
     "name": "stdout",
     "output_type": "stream",
     "text": [
      "1 is a positive number in the list:\n",
      "2 is a positive number in the list:\n",
      "3 is a positive number in the list:\n",
      "4 is a positive number in the list:\n",
      "5 is a positive number in the list:\n",
      "6 is a positive number in the list:\n",
      "7 is a positive number in the list:\n",
      "8 is a positive number in the list:\n",
      "9 is a positive number in the list:\n"
     ]
    }
   ],
   "source": [
    "#21. python program to print positive number in a list \n",
    "number=[1,2,3,4,5,6,7,8,9]\n",
    "for num in number:\n",
    "     if (num >=1):\n",
    "         print(num,\"is a positive number in the list:\")"
   ]
  },
  {
   "cell_type": "code",
   "execution_count": 21,
   "id": "11278e83-62d6-4f77-89bb-d25ba3a1dd42",
   "metadata": {},
   "outputs": [
    {
     "name": "stdout",
     "output_type": "stream",
     "text": [
      "-3 is a negative number in a list:\n",
      "-6 is a negative number in a list:\n"
     ]
    }
   ],
   "source": [
    "#22. python program to print negative number in a list\n",
    "number=[1,2,-3,4,5,-6,7,8,9]\n",
    "for num in number:\n",
    "     if (num <=0):\n",
    "         print(num,\"is a negative number in a list:\")"
   ]
  },
  {
   "cell_type": "code",
   "execution_count": 22,
   "id": "8feffda9-0514-4c34-978c-e0eec69b14f1",
   "metadata": {},
   "outputs": [
    {
     "name": "stdout",
     "output_type": "stream",
     "text": [
      "positive number count: 7\n",
      "negative number count: 2\n"
     ]
    }
   ],
   "source": [
    "#23. python program to count positive and negative number in a list\n",
    "number=[1,2,-3,4,5,-6,7,8,9]\n",
    "positive_no=0\n",
    "negative_no=0\n",
    "for num in number:\n",
    "     if num >0:\n",
    "         positive_no +=1\n",
    "     elif num<0:\n",
    "         negative_no +=1\n",
    "print(\"positive number count:\",positive_no) \n",
    "print(\"negative number count:\",negative_no)"
   ]
  },
  {
   "cell_type": "code",
   "execution_count": 23,
   "id": "9f4c661f-93f4-4f89-accb-50bb9133e750",
   "metadata": {},
   "outputs": [
    {
     "name": "stdout",
     "output_type": "stream",
     "text": [
      "[10, 20, 30, 70, 80, 90]\n"
     ]
    }
   ],
   "source": [
    "#24. remove multiple elements from a list in python\n",
    "number=[10,20,30,40,50,60,70,80,90]\n",
    "remove=[40,50,60]\n",
    "filter_list=[]\n",
    "for item in number:\n",
    "    if item not in remove:\n",
    "        filter_list.append(item)\n",
    "print(filter_list)"
   ]
  },
  {
   "cell_type": "code",
   "execution_count": 25,
   "id": "00fc0766-81c1-40e7-afb6-1bf41fffa23f",
   "metadata": {},
   "outputs": [
    {
     "name": "stdout",
     "output_type": "stream",
     "text": [
      "[(1, 2), (3, 4), (5,)]\n"
     ]
    }
   ],
   "source": [
    "#25. python remove empty tuples from a list\n",
    "a=[(1,2),(),(3,4),(),(5,)]\n",
    "res=list(filter(None,a))\n",
    "print(res)"
   ]
  },
  {
   "cell_type": "code",
   "execution_count": 26,
   "id": "54d39b16-c8c9-4cba-ab35-b479c4a58816",
   "metadata": {},
   "outputs": [
    {
     "name": "stdout",
     "output_type": "stream",
     "text": [
      "[5, 6]\n"
     ]
    }
   ],
   "source": [
    "#26. python program to print dublicates from a list of integer\n",
    "ist =[1,2,3,5,5,6,6,8,5]\n",
    "duplicate =[]\n",
    "for num in ist:\n",
    "    if ist .count (num) > 1 and num not in duplicate:\n",
    "        duplicate.append(num)\n",
    "print(duplicate)"
   ]
  }
 ],
 "metadata": {
  "kernelspec": {
   "display_name": "Python 3 (ipykernel)",
   "language": "python",
   "name": "python3"
  },
  "language_info": {
   "codemirror_mode": {
    "name": "ipython",
    "version": 3
   },
   "file_extension": ".py",
   "mimetype": "text/x-python",
   "name": "python",
   "nbconvert_exporter": "python",
   "pygments_lexer": "ipython3",
   "version": "3.12.7"
  }
 },
 "nbformat": 4,
 "nbformat_minor": 5
}
